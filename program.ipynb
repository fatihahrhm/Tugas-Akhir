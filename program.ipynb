{
 "cells": [
  {
   "cell_type": "markdown",
   "metadata": {},
   "source": [
    "<img src=\"https://raw.githubusercontent.com/fatihahrhm/Tugas-Akhir/main/images.svg\" style=\"width: 500px;\">\n",
    "\n",
    "<h2><center> Analisis Sentimen Publik\n",
    "terhadap Kegiatan Work from Home selama\n",
    "Pandemi COVID-19 menggunakan Optimasi Model Klasifikasi\n",
    "dengan Hyperparameter Tuning</center></h2>\n",
    "\n",
    "\n",
    "<center><b>Disusun oleh</b>          : Fatihah Rahmadayana (1301174083) </center>"
   ]
  },
  {
   "cell_type": "markdown",
   "metadata": {},
   "source": [
    "## 0. Import Library\n",
    "Import library yang dibutuhkan dalam program ini.\n",
    "<ol>\n",
    "  <li><b>Pandas</b></li>\n",
    "    Pandas digunakan untuk membuat tabel, mengubah dimensi data, mengecek data, dan lain sebagainya. Struktur data yang digunakan dalam library ini adalah DataFrame yang memudahkan kita untuk membaca sebuah file dengan banyak jenis format seperti file .txt, .csv, dan .tsv.\n",
    "  <li><b>Numpy</b></li>\n",
    "    NumPy (Numerical Python) Array adalah library Python yang fokus pada scientific computing. NumPy Array memiliki kemampuan untuk membentuk objek N-dimensional array, yang mirip dengan list pada Python.\n",
    "    <li><b>Tweepy</b></li>\n",
    "    Tweepy merupakan salah satu library pada python yang digunakan untuk melakukan crawling data twitter.\n",
    "    <li><b>Re</b></li>\n",
    "    Re (regular expression) digunakan untuk mencari ekspresi reguler yang merupakan sebuah notasi yang dapat digunakan untuk mendeskripsikan pola dari kata yang ingin dicari.\n",
    "    <li><b>Sqlite3</b></li>\n",
    "    Sqlite3 merupakan salah satu library yang memungkinkan untuk mengakses databse menggunakan query SQL.\n",
    "    <li><b>Matplotlib</b></li>\n",
    "    Matplotlib merupakan library pada Python yang digunakan untuk melakukan visualisasi data menjadi lebih rapi dan menarik. Biasanya bentuk visualisasi dengan Matplotlib berupa grafik yang memiliki satu sumbu atau lebih.\n",
    "    <li><b>Seaborn</b></li>\n",
    "    Seaborn merupakan library pada python yang juga digunakan untuk melakukan visualisasi data. Seaborn menyediakan tampilan yang lebih beragam dibandingkan dengan matplotlib.\n",
    "    <li><b>Sastrawi</b></li>\n",
    "    Sastrawi adalah library Python sederhana yang digunakan dalam pemrosesan. Library ini memungkinkan untuk mereduksi kata-kata infleksi dalam Bahasa Indonesia (Bahasa Indonesia) ke bentuk dasarnya.\n",
    "    <li><b>Sklearn</b></li>\n",
    "    Sklearn (Scikit-Learn) merupakan library Machine Learning open source berbasis Python yang bisa digunakan dalam Data Science. Kelebihan Scikit-Learn adalah penggunaan API yang mudah serta kecepatannya saat melakukan tolok ukur yang berbeda dalam dataset.\n",
    "    <li><b>Preprocessor</b></li>\n",
    "    Preprocessor merupakan salah satu library python yang memudahkan untuk membersihkan, parsing, atau tokenizing suatu tweet.\n",
    "</ol>"
   ]
  },
  {
   "cell_type": "code",
   "execution_count": 1,
   "metadata": {},
   "outputs": [],
   "source": [
    "import pandas as pd\n",
    "import numpy as np \n",
    "import tweepy, re, sqlite3, os, random\n",
    "import matplotlib.pyplot as plt\n",
    "import seaborn as sns\n",
    "\n",
    "from Sastrawi.StopWordRemover.StopWordRemoverFactory import StopWordRemoverFactory\n",
    "from Sastrawi.Stemmer.StemmerFactory import StemmerFactory\n",
    "\n",
    "from sklearn.feature_extraction.text import TfidfVectorizer\n",
    "from sklearn.feature_selection import SelectPercentile, chi2\n",
    "from sklearn import svm\n",
    "from sklearn.model_selection import train_test_split, RandomizedSearchCV\n",
    "from sklearn.pipeline import Pipeline\n",
    "\n",
    "from sklearn.metrics import classification_report, confusion_matrix, accuracy_score\n",
    "\n",
    "import preprocessor as p\n",
    "from datetime import date\n",
    "\n",
    "from emoji import UNICODE_EMOJI\n",
    "import warnings\n",
    "from IPython.display import clear_output"
   ]
  },
  {
   "cell_type": "markdown",
   "metadata": {},
   "source": [
    "## 1. Data Collecting\n",
    "Melakukan pengumpulan data yang berasal dari twitter, dengan menggunakan metode crawling. Crawling dilakukan dengan menggunakan library tweepy dan Twitter API. Data yang dikumpulkan berupa tweet ID, date, username, dan tweet. Hasil dari tahap ini adalah:\n",
    "<ol>\n",
    "<li><b>Data Training</b></li>\n",
    "    Data yang digunakan untuk training sebanyak 5000 data. Data ini akan dilakukan pelabelan secara manual.\n",
    "<li><b>Data Testing</b></li>\n",
    "    Data tidak berlabel untuk dilakukan prediksi di tahap akhir program ini. Data ini berjumlah 50.000 data.\n",
    "    \n",
    "</ol>"
   ]
  },
  {
   "cell_type": "code",
   "execution_count": 2,
   "metadata": {},
   "outputs": [],
   "source": [
    "def crawling(keyword):\n",
    "    consumer_key = \"\"\n",
    "    consumer_secret = \"\"\n",
    "    access_token = \"\"\n",
    "    access_token_secret = \"\"\n",
    "\n",
    "    auth = tweepy.OAuthHandler(consumer_key, consumer_secret)\n",
    "    auth.set_access_token(access_token, access_token_secret)\n",
    "    api = tweepy.API(auth, wait_on_rate_limit=True)\n",
    "\n",
    "    search_words = keyword\n",
    "    new_search = search_words + \" -filter:retweets\"\n",
    "\n",
    "    tweets = tweepy.Cursor(api.search,\n",
    "                q=new_search,\n",
    "                lang=\"id\", \n",
    "                tweet_mode='extended').items(1000)    \n",
    "\n",
    "    items = []\n",
    "    tweetId = []\n",
    "    tgl = []\n",
    "    username = []\n",
    "    for tweet in tweets:\n",
    "        items.append(tweet.full_text)\n",
    "        tweetId.append(tweet.id)\n",
    "        tgl.append(tweet.created_at)\n",
    "        username.append(tweet.user.screen_name)\n",
    "\n",
    "    hasil = pd.DataFrame(list(zip(tweetId,tgl,username, items)), columns=['tweetId','date','username','tweet'])\n",
    "    return hasil\n",
    "\n",
    "def save_to_csv(data, keyword):\n",
    "    file_name = keyword+\" \"+str(date.today())+\".csv\"\n",
    "    data.to_csv(file_name, index=False) "
   ]
  },
  {
   "cell_type": "code",
   "execution_count": 3,
   "metadata": {},
   "outputs": [
    {
     "name": "stdout",
     "output_type": "stream",
     "text": [
      "All keyword done\n"
     ]
    }
   ],
   "source": [
    "keywords = ['wfh','workfromhome','work from home','#wfh','#workfromhome']\n",
    "\n",
    "for keyword in keywords:\n",
    "    tweets = crawling(keyword)\n",
    "    save_to_csv(tweets, keyword)\n",
    "    print(\"Keyword\", keyword, \"Done\")\n",
    "    clear_output(wait=True)\n",
    "print(\"All keyword done\")"
   ]
  },
  {
   "cell_type": "markdown",
   "metadata": {},
   "source": [
    "## 2. Preprocessing\n",
    "### 2.0. Menyiapkan Data\n",
    "Membaca data yang akan digunakan. Data yang digunakan merupakan data yang sudah dilakukan pelabelan secara manual. Data tersebut kemudian dilakukan penghapusan NaN Value, serta pengubahan tipe data di setiap column pada dataset."
   ]
  },
  {
   "cell_type": "code",
   "execution_count": 4,
   "metadata": {},
   "outputs": [
    {
     "data": {
      "text/html": [
       "<div>\n",
       "<style scoped>\n",
       "    .dataframe tbody tr th:only-of-type {\n",
       "        vertical-align: middle;\n",
       "    }\n",
       "\n",
       "    .dataframe tbody tr th {\n",
       "        vertical-align: top;\n",
       "    }\n",
       "\n",
       "    .dataframe thead th {\n",
       "        text-align: right;\n",
       "    }\n",
       "</style>\n",
       "<table border=\"1\" class=\"dataframe\">\n",
       "  <thead>\n",
       "    <tr style=\"text-align: right;\">\n",
       "      <th></th>\n",
       "      <th>tweetId</th>\n",
       "      <th>date</th>\n",
       "      <th>username</th>\n",
       "      <th>tweet</th>\n",
       "      <th>label</th>\n",
       "    </tr>\n",
       "  </thead>\n",
       "  <tbody>\n",
       "    <tr>\n",
       "      <th>0</th>\n",
       "      <td>1374945386733793287</td>\n",
       "      <td>2021-03-25 04:45:00</td>\n",
       "      <td>imnteeevil</td>\n",
       "      <td>ganggu orang WFH aja bajingan !</td>\n",
       "      <td>0</td>\n",
       "    </tr>\n",
       "    <tr>\n",
       "      <th>1</th>\n",
       "      <td>1409154884406939652</td>\n",
       "      <td>2021-06-27 14:21:19</td>\n",
       "      <td>irmaminoris</td>\n",
       "      <td>Akhirnya ada pengumuman WFH setelah samping ka...</td>\n",
       "      <td>1</td>\n",
       "    </tr>\n",
       "    <tr>\n",
       "      <th>2</th>\n",
       "      <td>1387457684115390471</td>\n",
       "      <td>2021-04-28 17:24:24</td>\n",
       "      <td>hibyscu</td>\n",
       "      <td>padahal pas wfh jam kerja makin gila, nonstop ...</td>\n",
       "      <td>0</td>\n",
       "    </tr>\n",
       "    <tr>\n",
       "      <th>3</th>\n",
       "      <td>1376747308012859393</td>\n",
       "      <td>2021-03-30 04:05:11</td>\n",
       "      <td>saltedcaramell6</td>\n",
       "      <td>@selphieusagi Aku lebih nyaman wfh walaupun sk...</td>\n",
       "      <td>1</td>\n",
       "    </tr>\n",
       "    <tr>\n",
       "      <th>4</th>\n",
       "      <td>1364770266048471040</td>\n",
       "      <td>2021-02-25 02:52:42</td>\n",
       "      <td>Widyor1st</td>\n",
       "      <td>Da ah Udh kosong lg kepala, kerja kerja. Untun...</td>\n",
       "      <td>1</td>\n",
       "    </tr>\n",
       "  </tbody>\n",
       "</table>\n",
       "</div>"
      ],
      "text/plain": [
       "               tweetId                 date         username  \\\n",
       "0  1374945386733793287  2021-03-25 04:45:00       imnteeevil   \n",
       "1  1409154884406939652  2021-06-27 14:21:19      irmaminoris   \n",
       "2  1387457684115390471  2021-04-28 17:24:24          hibyscu   \n",
       "3  1376747308012859393  2021-03-30 04:05:11  saltedcaramell6   \n",
       "4  1364770266048471040  2021-02-25 02:52:42        Widyor1st   \n",
       "\n",
       "                                               tweet  label  \n",
       "0                    ganggu orang WFH aja bajingan !      0  \n",
       "1  Akhirnya ada pengumuman WFH setelah samping ka...      1  \n",
       "2  padahal pas wfh jam kerja makin gila, nonstop ...      0  \n",
       "3  @selphieusagi Aku lebih nyaman wfh walaupun sk...      1  \n",
       "4  Da ah Udh kosong lg kepala, kerja kerja. Untun...      1  "
      ]
     },
     "execution_count": 4,
     "metadata": {},
     "output_type": "execute_result"
    }
   ],
   "source": [
    "data = pd.read_csv(r\"https://raw.githubusercontent.com/fatihahrhm/Tugas-Akhir/main/data_train.csv\")\n",
    "data.dropna(inplace=True)\n",
    "data['label'] = data['label'].astype('int')\n",
    "data['tweet'] = data['tweet'].astype(str)\n",
    "data.reset_index(drop=True, inplace=True)\n",
    "data.head()"
   ]
  },
  {
   "cell_type": "markdown",
   "metadata": {},
   "source": [
    "### 2.1. Perluasan Akronim\n",
    "\n",
    "Fungsi ini digunakan untuk memperluas akronim yang terdapat pada tweets. Akronim diperluas berdasarkan kamus yang digunakan (<b>acronym.txt</b>)."
   ]
  },
  {
   "cell_type": "code",
   "execution_count": 5,
   "metadata": {},
   "outputs": [],
   "source": [
    "warnings.filterwarnings('ignore')\n",
    "acronym = pd.read_csv(r'https://raw.githubusercontent.com/fatihahrhm/Tugas-Akhir/main/dataset/acronym.txt', delimiter=' =', encoding='utf8', header=None)\n",
    "\n",
    "tmp = []\n",
    "for i in acronym[1]:\n",
    "    tmp.append(i.strip())\n",
    "    \n",
    "acronym[1] = tmp\n",
    "acronym = dict(acronym.values)\n",
    "\n",
    "def replace_acronym(tweet):\n",
    "    return ' '.join(acronym.get(x, x) for x in tweet.split())"
   ]
  },
  {
   "cell_type": "markdown",
   "metadata": {},
   "source": [
    "### 2.2. Penerjemahan Kata Slang\n",
    "\n",
    "Fungsi ini digunakan untuk menerjemahkan kata slang yang terdapat pada tweets, berdasarkan kamus kata slang yang digunakan (<b>kamusalay.csv</b>).\n"
   ]
  },
  {
   "cell_type": "code",
   "execution_count": 6,
   "metadata": {},
   "outputs": [],
   "source": [
    "slang = pd.read_csv(r'https://raw.githubusercontent.com/fatihahrhm/Tugas-Akhir/main/dataset/kamusalay.csv', encoding='utf8', header=None)\n",
    "\n",
    "tmp = []\n",
    "for i in slang[1]:\n",
    "    tmp.append(i.strip())\n",
    "    \n",
    "slang[1] = tmp\n",
    "slang = dict(slang.values)\n",
    "\n",
    "def replace_slang(tweet):\n",
    "    return ' '.join(slang.get(x.lower(), x) for x in tweet.split())"
   ]
  },
  {
   "cell_type": "markdown",
   "metadata": {},
   "source": [
    "### 2.3. Penerjemahan Emoji\n",
    "\n",
    "Fungsi ini digunakan untuk menerjemahkan emoji yang terdapat pada tweets. Emoji diterjemahkan sesuai maknanya masing masing, dengan menggunakan kamus <b>emoji.txt</b>."
   ]
  },
  {
   "cell_type": "code",
   "execution_count": 7,
   "metadata": {},
   "outputs": [],
   "source": [
    "emoji = pd.read_csv(r'https://raw.githubusercontent.com/fatihahrhm/Tugas-Akhir/main/dataset/emoji.txt', encoding='utf8', header=None)\n",
    "\n",
    "tmp = []\n",
    "for i in emoji[1]:\n",
    "    tmp.append(i.strip())\n",
    "    \n",
    "emoji[1] = tmp\n",
    "emoji = dict(emoji.values)\n",
    "\n",
    "def is_emoji(s):\n",
    "    return s in UNICODE_EMOJI\n",
    "\n",
    "def replace_emoji(tweet):\n",
    "    result = ''\n",
    "    for char in tweet:\n",
    "        if is_emoji(char):\n",
    "            result = result + ' ' + emoji.get(char, char)\n",
    "        else:\n",
    "            result += emoji.get(char, char)\n",
    "    return result.strip()"
   ]
  },
  {
   "cell_type": "markdown",
   "metadata": {},
   "source": [
    "### 2.4. Data Cleaning\n",
    "\n",
    "Fungsi ini merupakan fungsi utama yang digunakan pada tahap preprocessing. Pada fungsi ini dilakukan pemanggilan fungsi-fungsi lain yang telah di deklarasikan sebelumnya seperti <b>replace_acronym()</b>, <b>replace_slang()</b>, <b>replace_emoji()</b>, serta pemanggilan beberapa method pada library yang digunakan.\n"
   ]
  },
  {
   "cell_type": "code",
   "execution_count": 8,
   "metadata": {},
   "outputs": [],
   "source": [
    "# get stopwords\n",
    "factory = StopWordRemoverFactory()\n",
    "stopword = factory.create_stop_word_remover()\n",
    "\n",
    "# initiate stemmer\n",
    "factory = StemmerFactory()\n",
    "stemmer = factory.create_stemmer()\n",
    "\n",
    "# tweet-preprocess\n",
    "p.set_options(p.OPT.URL, p.OPT.MENTION, p.OPT.HASHTAG, p.OPT.NUMBER)\n",
    "\n",
    "def data_cleaning(data): \n",
    "\n",
    "    cek = []\n",
    "    for i, tweet in enumerate (data['tweet']):\n",
    "        # replace acronym\n",
    "        tweet = replace_acronym(str(tweet))  \n",
    "        \n",
    "        tweet = tweet.lower()\n",
    "        \n",
    "        # data cleansing\n",
    "        tweet = p.clean(tweet)\n",
    "        tweet = re.sub(\"(@[^\\s]+|@[A-Za-z0-9]+)\", \" \", tweet)\n",
    "        tweet = re.sub(\"\\d+\", \"\", tweet)\n",
    "        \n",
    "        # remove duplicate char\n",
    "        tweet = re.sub(r'(.)\\1+$', r'\\1', tweet)\n",
    "\n",
    "        # replace slang words\n",
    "        tweet = replace_slang(str(tweet))              \n",
    "        \n",
    "        # replace emoji\n",
    "        tweet = replace_emoji(str(tweet))        \n",
    "        \n",
    "        # stopword removal\n",
    "        tweet = stopword.remove(tweet)\n",
    "        \n",
    "        # stemming\n",
    "        tweet = stemmer.stem(tweet)\n",
    "                \n",
    "        # append\n",
    "        cek.append(tweet.strip())\n",
    "        \n",
    "        clear_output(wait=True)\n",
    "        print(\"Progress \", str((i+1)/len(data['tweet'])*100) + \" %\" )\n",
    "    data['cleantweet'] = cek\n",
    "    return data"
   ]
  },
  {
   "cell_type": "code",
   "execution_count": 9,
   "metadata": {},
   "outputs": [
    {
     "name": "stdout",
     "output_type": "stream",
     "text": [
      "Progress  100.0 %\n"
     ]
    },
    {
     "data": {
      "text/html": [
       "<div>\n",
       "<style scoped>\n",
       "    .dataframe tbody tr th:only-of-type {\n",
       "        vertical-align: middle;\n",
       "    }\n",
       "\n",
       "    .dataframe tbody tr th {\n",
       "        vertical-align: top;\n",
       "    }\n",
       "\n",
       "    .dataframe thead th {\n",
       "        text-align: right;\n",
       "    }\n",
       "</style>\n",
       "<table border=\"1\" class=\"dataframe\">\n",
       "  <thead>\n",
       "    <tr style=\"text-align: right;\">\n",
       "      <th></th>\n",
       "      <th>tweetId</th>\n",
       "      <th>date</th>\n",
       "      <th>username</th>\n",
       "      <th>tweet</th>\n",
       "      <th>label</th>\n",
       "      <th>cleantweet</th>\n",
       "    </tr>\n",
       "  </thead>\n",
       "  <tbody>\n",
       "    <tr>\n",
       "      <th>0</th>\n",
       "      <td>1374945386733793287</td>\n",
       "      <td>2021-03-25 04:45:00</td>\n",
       "      <td>imnteeevil</td>\n",
       "      <td>ganggu orang WFH aja bajingan !</td>\n",
       "      <td>0</td>\n",
       "      <td>ganggu orang wfh bajing</td>\n",
       "    </tr>\n",
       "    <tr>\n",
       "      <th>1</th>\n",
       "      <td>1409154884406939652</td>\n",
       "      <td>2021-06-27 14:21:19</td>\n",
       "      <td>irmaminoris</td>\n",
       "      <td>Akhirnya ada pengumuman WFH setelah samping ka...</td>\n",
       "      <td>1</td>\n",
       "      <td>akhir umum wfh samping kantor positif covid ti...</td>\n",
       "    </tr>\n",
       "    <tr>\n",
       "      <th>2</th>\n",
       "      <td>1387457684115390471</td>\n",
       "      <td>2021-04-28 17:24:24</td>\n",
       "      <td>hibyscu</td>\n",
       "      <td>padahal pas wfh jam kerja makin gila, nonstop ...</td>\n",
       "      <td>0</td>\n",
       "      <td>padahal pas wfh jam kerja makin gila nonstop s...</td>\n",
       "    </tr>\n",
       "    <tr>\n",
       "      <th>3</th>\n",
       "      <td>1376747308012859393</td>\n",
       "      <td>2021-03-30 04:05:11</td>\n",
       "      <td>saltedcaramell6</td>\n",
       "      <td>@selphieusagi Aku lebih nyaman wfh walaupun sk...</td>\n",
       "      <td>1</td>\n",
       "      <td>aku lebih nyaman wfh walaupun sekarang full wf...</td>\n",
       "    </tr>\n",
       "    <tr>\n",
       "      <th>4</th>\n",
       "      <td>1364770266048471040</td>\n",
       "      <td>2021-02-25 02:52:42</td>\n",
       "      <td>Widyor1st</td>\n",
       "      <td>Da ah Udh kosong lg kepala, kerja kerja. Untun...</td>\n",
       "      <td>1</td>\n",
       "      <td>daerah ah kosong kepala kerja kerja untung wfh...</td>\n",
       "    </tr>\n",
       "  </tbody>\n",
       "</table>\n",
       "</div>"
      ],
      "text/plain": [
       "               tweetId                 date         username  \\\n",
       "0  1374945386733793287  2021-03-25 04:45:00       imnteeevil   \n",
       "1  1409154884406939652  2021-06-27 14:21:19      irmaminoris   \n",
       "2  1387457684115390471  2021-04-28 17:24:24          hibyscu   \n",
       "3  1376747308012859393  2021-03-30 04:05:11  saltedcaramell6   \n",
       "4  1364770266048471040  2021-02-25 02:52:42        Widyor1st   \n",
       "\n",
       "                                               tweet  label  \\\n",
       "0                    ganggu orang WFH aja bajingan !      0   \n",
       "1  Akhirnya ada pengumuman WFH setelah samping ka...      1   \n",
       "2  padahal pas wfh jam kerja makin gila, nonstop ...      0   \n",
       "3  @selphieusagi Aku lebih nyaman wfh walaupun sk...      1   \n",
       "4  Da ah Udh kosong lg kepala, kerja kerja. Untun...      1   \n",
       "\n",
       "                                          cleantweet  \n",
       "0                            ganggu orang wfh bajing  \n",
       "1  akhir umum wfh samping kantor positif covid ti...  \n",
       "2  padahal pas wfh jam kerja makin gila nonstop s...  \n",
       "3  aku lebih nyaman wfh walaupun sekarang full wf...  \n",
       "4  daerah ah kosong kepala kerja kerja untung wfh...  "
      ]
     },
     "execution_count": 9,
     "metadata": {},
     "output_type": "execute_result"
    }
   ],
   "source": [
    "data = data_cleaning(data)\n",
    "data.head()"
   ]
  },
  {
   "cell_type": "markdown",
   "metadata": {},
   "source": [
    "### 2.5. Simpan Hasil Preprocessing\n",
    "\n",
    "Dataset hasil preprocessing disimpan dalam file <b>clean_data_train.csv</b>."
   ]
  },
  {
   "cell_type": "code",
   "execution_count": 10,
   "metadata": {},
   "outputs": [],
   "source": [
    "data.to_csv(\"clean_data_train.csv\", index=False)"
   ]
  },
  {
   "cell_type": "markdown",
   "metadata": {},
   "source": [
    "### Read Data Hasil Preprocessing"
   ]
  },
  {
   "cell_type": "code",
   "execution_count": 11,
   "metadata": {},
   "outputs": [
    {
     "data": {
      "text/html": [
       "<div>\n",
       "<style scoped>\n",
       "    .dataframe tbody tr th:only-of-type {\n",
       "        vertical-align: middle;\n",
       "    }\n",
       "\n",
       "    .dataframe tbody tr th {\n",
       "        vertical-align: top;\n",
       "    }\n",
       "\n",
       "    .dataframe thead th {\n",
       "        text-align: right;\n",
       "    }\n",
       "</style>\n",
       "<table border=\"1\" class=\"dataframe\">\n",
       "  <thead>\n",
       "    <tr style=\"text-align: right;\">\n",
       "      <th></th>\n",
       "      <th>tweetId</th>\n",
       "      <th>date</th>\n",
       "      <th>username</th>\n",
       "      <th>tweet</th>\n",
       "      <th>label</th>\n",
       "      <th>cleantweet</th>\n",
       "    </tr>\n",
       "  </thead>\n",
       "  <tbody>\n",
       "    <tr>\n",
       "      <th>0</th>\n",
       "      <td>1374945386733793287</td>\n",
       "      <td>2021-03-25 04:45:00</td>\n",
       "      <td>imnteeevil</td>\n",
       "      <td>ganggu orang WFH aja bajingan !</td>\n",
       "      <td>0</td>\n",
       "      <td>ganggu orang wfh bajing</td>\n",
       "    </tr>\n",
       "    <tr>\n",
       "      <th>1</th>\n",
       "      <td>1409154884406939652</td>\n",
       "      <td>2021-06-27 14:21:19</td>\n",
       "      <td>irmaminoris</td>\n",
       "      <td>Akhirnya ada pengumuman WFH setelah samping ka...</td>\n",
       "      <td>1</td>\n",
       "      <td>akhir umum wfh samping kantor positif covid ti...</td>\n",
       "    </tr>\n",
       "    <tr>\n",
       "      <th>2</th>\n",
       "      <td>1387457684115390471</td>\n",
       "      <td>2021-04-28 17:24:24</td>\n",
       "      <td>hibyscu</td>\n",
       "      <td>padahal pas wfh jam kerja makin gila, nonstop ...</td>\n",
       "      <td>0</td>\n",
       "      <td>padahal pas wfh jam kerja makin gila nonstop s...</td>\n",
       "    </tr>\n",
       "    <tr>\n",
       "      <th>3</th>\n",
       "      <td>1376747308012859393</td>\n",
       "      <td>2021-03-30 04:05:11</td>\n",
       "      <td>saltedcaramell6</td>\n",
       "      <td>@selphieusagi Aku lebih nyaman wfh walaupun sk...</td>\n",
       "      <td>1</td>\n",
       "      <td>aku lebih nyaman wfh walaupun sekarang full wf...</td>\n",
       "    </tr>\n",
       "    <tr>\n",
       "      <th>4</th>\n",
       "      <td>1364770266048471040</td>\n",
       "      <td>2021-02-25 02:52:42</td>\n",
       "      <td>Widyor1st</td>\n",
       "      <td>Da ah Udh kosong lg kepala, kerja kerja. Untun...</td>\n",
       "      <td>1</td>\n",
       "      <td>daerah ah kosong kepala kerja kerja untung wfh...</td>\n",
       "    </tr>\n",
       "  </tbody>\n",
       "</table>\n",
       "</div>"
      ],
      "text/plain": [
       "               tweetId                 date         username  \\\n",
       "0  1374945386733793287  2021-03-25 04:45:00       imnteeevil   \n",
       "1  1409154884406939652  2021-06-27 14:21:19      irmaminoris   \n",
       "2  1387457684115390471  2021-04-28 17:24:24          hibyscu   \n",
       "3  1376747308012859393  2021-03-30 04:05:11  saltedcaramell6   \n",
       "4  1364770266048471040  2021-02-25 02:52:42        Widyor1st   \n",
       "\n",
       "                                               tweet  label  \\\n",
       "0                    ganggu orang WFH aja bajingan !      0   \n",
       "1  Akhirnya ada pengumuman WFH setelah samping ka...      1   \n",
       "2  padahal pas wfh jam kerja makin gila, nonstop ...      0   \n",
       "3  @selphieusagi Aku lebih nyaman wfh walaupun sk...      1   \n",
       "4  Da ah Udh kosong lg kepala, kerja kerja. Untun...      1   \n",
       "\n",
       "                                          cleantweet  \n",
       "0                            ganggu orang wfh bajing  \n",
       "1  akhir umum wfh samping kantor positif covid ti...  \n",
       "2  padahal pas wfh jam kerja makin gila nonstop s...  \n",
       "3  aku lebih nyaman wfh walaupun sekarang full wf...  \n",
       "4  daerah ah kosong kepala kerja kerja untung wfh...  "
      ]
     },
     "execution_count": 11,
     "metadata": {},
     "output_type": "execute_result"
    }
   ],
   "source": [
    "data = pd.read_csv(r\"https://raw.githubusercontent.com/fatihahrhm/Tugas-Akhir/main/clean_data_train.csv\")\n",
    "data.head()"
   ]
  },
  {
   "cell_type": "markdown",
   "metadata": {},
   "source": [
    "### Visualisasi Perbandingan Data\n",
    "\n",
    "Menampilkan diagram batang perbandingan jumlah data berlabel negatif dan positif."
   ]
  },
  {
   "cell_type": "code",
   "execution_count": 12,
   "metadata": {},
   "outputs": [
    {
     "data": {
      "image/png": "[encoded data removed]",
      "text/plain": [
       "<Figure size 576x360 with 1 Axes>"
      ]
     },
     "metadata": {},
     "output_type": "display_data"
    }
   ],
   "source": [
    "sns.set_style('darkgrid')\n",
    "\n",
    "fig = plt.figure(figsize=(8,5))\n",
    "plots = sns.barplot(x = ['Positif', 'Negatif'], y = data['label'].value_counts(), palette=['#588b8b','#c8553d'])\n",
    "\n",
    "for bar in plots.patches:\n",
    "    plots.annotate(format(bar.get_height(), '.0f'), \n",
    "                   (bar.get_x() + bar.get_width() / 2, \n",
    "                    bar.get_height()), ha='center', va='center',\n",
    "                   size=12, xytext=(0, 8),\n",
    "                   textcoords='offset points')\n",
    "    \n",
    "plt.ylim(0, 3250)    \n",
    "plt.xlabel(\"sentiment\", size=12)\n",
    "plt.ylabel(\"count\", size=12)\n",
    "plt.suptitle(\"Perbandingan Banyaknya Data\\nBerlabel Positif dan Negatif\", size=14)\n",
    "plt.savefig(\"visualisasi.png\")\n",
    "plt.show()"
   ]
  },
  {
   "cell_type": "markdown",
   "metadata": {},
   "source": [
    "## 3. Hyperparameter Tuning\n",
    "\n",
    "Mengoptimasi hyperparameter yang digunakan pada Support Vector Machine. Algoritma hyperparameter tuning yang digunakan adalah <b>RandomizedSearchCV()</b> dari <b>scikit-learn</b>. Algoritma ini mengacak (random) parameter yang telah ditentukan, kemudian mengevaluasi hasil berdasarkan metriks accuracy dengan cross validation.\n"
   ]
  },
  {
   "cell_type": "markdown",
   "metadata": {},
   "source": [
    "### Support Vector Machine\n",
    "\n",
    "Algoritma yang digunakan adalah Support Vector Classifier (SVC), dengan mengoptimasi beberapa parameter berikut.\n",
    "<ol>\n",
    "<li><b>Kernel</b></li>\n",
    "    Digunakan untuk menentukan jenis kernel yang akan digunakan dalam algoritma. Dalam program ini menggunakan parameter <b>linear</b> dan <b>rbf</b>.\n",
    "<li><b>C </b></li>\n",
    "    C merupakan parameter regularisasi. Parameter ini digunakan mengontrol trade off antara margin dan error klasifikasi ξ atau nilai kesalahan pada klasifikasi.\n",
    "<li><b>Gamma </b></li>    \n",
    "    Gamma merupakan parameter untuk hyperplanes non-linier (salah satunya adalah rbf). Parameter ini menentukan seberapa jauh pengaruh dari suatu sample.\n",
    "    \n",
    "    \n",
    "</ol>"
   ]
  },
  {
   "cell_type": "code",
   "execution_count": 14,
   "metadata": {},
   "outputs": [
    {
     "name": "stdout",
     "output_type": "stream",
     "text": [
      "Fitting 10 folds for each of 20 candidates, totalling 200 fits\n"
     ]
    },
    {
     "name": "stderr",
     "output_type": "stream",
     "text": [
      "[Parallel(n_jobs=-1)]: Using backend LokyBackend with 4 concurrent workers.\n",
      "[Parallel(n_jobs=-1)]: Done   5 tasks      | elapsed:   15.7s\n",
      "[Parallel(n_jobs=-1)]: Done  10 tasks      | elapsed:   21.1s\n",
      "[Parallel(n_jobs=-1)]: Done  17 tasks      | elapsed:   33.6s\n",
      "[Parallel(n_jobs=-1)]: Done  24 tasks      | elapsed:   41.6s\n",
      "[Parallel(n_jobs=-1)]: Done  33 tasks      | elapsed:  1.0min\n",
      "[Parallel(n_jobs=-1)]: Done  42 tasks      | elapsed:  1.3min\n",
      "[Parallel(n_jobs=-1)]: Done  53 tasks      | elapsed:  1.6min\n",
      "[Parallel(n_jobs=-1)]: Done  64 tasks      | elapsed:  1.9min\n",
      "[Parallel(n_jobs=-1)]: Done  77 tasks      | elapsed:  2.4min\n",
      "[Parallel(n_jobs=-1)]: Done  90 tasks      | elapsed:  2.7min\n",
      "[Parallel(n_jobs=-1)]: Done 105 tasks      | elapsed:  3.2min\n",
      "[Parallel(n_jobs=-1)]: Done 120 tasks      | elapsed:  3.8min\n",
      "[Parallel(n_jobs=-1)]: Done 137 tasks      | elapsed:  4.3min\n",
      "[Parallel(n_jobs=-1)]: Done 154 tasks      | elapsed:  4.8min\n",
      "[Parallel(n_jobs=-1)]: Done 173 tasks      | elapsed:  5.5min\n",
      "[Parallel(n_jobs=-1)]: Done 192 tasks      | elapsed:  6.2min\n",
      "[Parallel(n_jobs=-1)]: Done 200 out of 200 | elapsed:  6.5min finished\n"
     ]
    },
    {
     "name": "stdout",
     "output_type": "stream",
     "text": [
      "Hyperparameter terbaik : {'svc__kernel': 'rbf', 'svc__gamma': 1, 'svc__C': 100}\n",
      "Nilai akurasi terbaik : 0.8336171993179364\n"
     ]
    }
   ],
   "source": [
    "factory = StopWordRemoverFactory()\n",
    "stopwords = factory.get_stop_words()\n",
    "\n",
    "pipe = Pipeline([('tfidf', TfidfVectorizer(stop_words=stopwords)), ('svc', svm.SVC())])\n",
    "\n",
    "parameters = [\n",
    " {'svc__C': [0.1, 1, 10, 100, 1000], 'svc__kernel': ['linear']},\n",
    " {'svc__C': [0.1, 1, 10, 100, 1000], 'svc__gamma': [1, 0.1, 0.01, 0.001, 0.0001], 'svc__kernel': ['rbf']},\n",
    "]\n",
    "\n",
    "rs_svm = RandomizedSearchCV(n_iter = 20, estimator = pipe, scoring='f1_weighted', \n",
    "                            param_distributions = parameters, random_state=123, cv=10, n_jobs=-1, verbose=10)\n",
    "\n",
    "rs_svm.fit(data['cleantweet'], data['label'])\n",
    "print(\"Hyperparameter terbaik :\", rs_svm.best_params_)\n",
    "print(\"Nilai akurasi terbaik :\", rs_svm.best_score_)\n",
    "hasil = pd.DataFrame(rs_svm.cv_results_)\n",
    "hasil.to_csv(\"hasil_cross_validation.csv\")\n"
   ]
  },
  {
   "cell_type": "markdown",
   "metadata": {},
   "source": [
    "## 4. Predict Unlabeled Dataset\n",
    "\n",
    "Memprediksi dataset yang tidak berlabel dengan menggunakan metode yang telah diuji sebelumnya.\n",
    "\n",
    "### 4.0. Read Data Tidak Berlabel\n",
    "Membaca data tidak berlabel yang akan diprediksi nilai sentimennya."
   ]
  },
  {
   "cell_type": "code",
   "execution_count": 15,
   "metadata": {},
   "outputs": [
    {
     "data": {
      "text/html": [
       "<div>\n",
       "<style scoped>\n",
       "    .dataframe tbody tr th:only-of-type {\n",
       "        vertical-align: middle;\n",
       "    }\n",
       "\n",
       "    .dataframe tbody tr th {\n",
       "        vertical-align: top;\n",
       "    }\n",
       "\n",
       "    .dataframe thead th {\n",
       "        text-align: right;\n",
       "    }\n",
       "</style>\n",
       "<table border=\"1\" class=\"dataframe\">\n",
       "  <thead>\n",
       "    <tr style=\"text-align: right;\">\n",
       "      <th></th>\n",
       "      <th>tweetId</th>\n",
       "      <th>date</th>\n",
       "      <th>username</th>\n",
       "      <th>tweet</th>\n",
       "    </tr>\n",
       "  </thead>\n",
       "  <tbody>\n",
       "    <tr>\n",
       "      <th>0</th>\n",
       "      <td>1368762547189481475</td>\n",
       "      <td>2021-03-08 03:16:36</td>\n",
       "      <td>Langgard</td>\n",
       "      <td>Di masa pandemi kita jadi kurang bergerak, lat...</td>\n",
       "    </tr>\n",
       "    <tr>\n",
       "      <th>1</th>\n",
       "      <td>1368756182337253376</td>\n",
       "      <td>2021-03-08 02:51:18</td>\n",
       "      <td>primadigitalso1</td>\n",
       "      <td>Tekan biaya industri anda dengan menggunakan V...</td>\n",
       "    </tr>\n",
       "    <tr>\n",
       "      <th>2</th>\n",
       "      <td>1368613542102933506</td>\n",
       "      <td>2021-03-07 17:24:30</td>\n",
       "      <td>anastasianitap</td>\n",
       "      <td>@HabHesty Iya bu sama. Untung besok dapat jata...</td>\n",
       "    </tr>\n",
       "    <tr>\n",
       "      <th>3</th>\n",
       "      <td>1368247086471213058</td>\n",
       "      <td>2021-03-06 17:08:20</td>\n",
       "      <td>keroropanda</td>\n",
       "      <td>#WFH\\nMAGANG DI TIKET .COM\\n\\nSegera kirimkan ...</td>\n",
       "    </tr>\n",
       "    <tr>\n",
       "      <th>4</th>\n",
       "      <td>1368157679382753282</td>\n",
       "      <td>2021-03-06 11:13:04</td>\n",
       "      <td>RidwanAffiliate</td>\n",
       "      <td>Mentoring Lengkap tentang bagaimana membuat La...</td>\n",
       "    </tr>\n",
       "  </tbody>\n",
       "</table>\n",
       "</div>"
      ],
      "text/plain": [
       "               tweetId                 date         username  \\\n",
       "0  1368762547189481475  2021-03-08 03:16:36         Langgard   \n",
       "1  1368756182337253376  2021-03-08 02:51:18  primadigitalso1   \n",
       "2  1368613542102933506  2021-03-07 17:24:30   anastasianitap   \n",
       "3  1368247086471213058  2021-03-06 17:08:20      keroropanda   \n",
       "4  1368157679382753282  2021-03-06 11:13:04  RidwanAffiliate   \n",
       "\n",
       "                                               tweet  \n",
       "0  Di masa pandemi kita jadi kurang bergerak, lat...  \n",
       "1  Tekan biaya industri anda dengan menggunakan V...  \n",
       "2  @HabHesty Iya bu sama. Untung besok dapat jata...  \n",
       "3  #WFH\\nMAGANG DI TIKET .COM\\n\\nSegera kirimkan ...  \n",
       "4  Mentoring Lengkap tentang bagaimana membuat La...  "
      ]
     },
     "execution_count": 15,
     "metadata": {},
     "output_type": "execute_result"
    }
   ],
   "source": [
    "unlabeled_df = pd.read_csv(r\"https://raw.githubusercontent.com/fatihahrhm/Tugas-Akhir/main/dataset/unlabeled_data.csv\")\n",
    "unlabeled_df.head()"
   ]
  },
  {
   "cell_type": "markdown",
   "metadata": {},
   "source": [
    "### 4.1. Preprocessing\n",
    "\n",
    "Membersihkan data sesuai dengan hasil pengujian skenario terhadap metode preprocessing. Hasil pengujian skenario menunjukkan bahwa seluruh metode preprocessing bekerja dengan baik."
   ]
  },
  {
   "cell_type": "code",
   "execution_count": 16,
   "metadata": {},
   "outputs": [],
   "source": [
    "unlabeled_df.dropna(inplace=True)\n",
    "unlabeled_df['tweet'] = unlabeled_df['tweet'].astype(str)\n",
    "unlabeled_df.reset_index(drop=True, inplace=True)"
   ]
  },
  {
   "cell_type": "code",
   "execution_count": 17,
   "metadata": {
    "scrolled": true
   },
   "outputs": [
    {
     "name": "stdout",
     "output_type": "stream",
     "text": [
      "Progress  100.0 %\n"
     ]
    },
    {
     "data": {
      "text/html": [
       "<div>\n",
       "<style scoped>\n",
       "    .dataframe tbody tr th:only-of-type {\n",
       "        vertical-align: middle;\n",
       "    }\n",
       "\n",
       "    .dataframe tbody tr th {\n",
       "        vertical-align: top;\n",
       "    }\n",
       "\n",
       "    .dataframe thead th {\n",
       "        text-align: right;\n",
       "    }\n",
       "</style>\n",
       "<table border=\"1\" class=\"dataframe\">\n",
       "  <thead>\n",
       "    <tr style=\"text-align: right;\">\n",
       "      <th></th>\n",
       "      <th>tweetId</th>\n",
       "      <th>date</th>\n",
       "      <th>username</th>\n",
       "      <th>tweet</th>\n",
       "      <th>cleantweet</th>\n",
       "    </tr>\n",
       "  </thead>\n",
       "  <tbody>\n",
       "    <tr>\n",
       "      <th>0</th>\n",
       "      <td>1368762547189481475</td>\n",
       "      <td>2021-03-08 03:16:36</td>\n",
       "      <td>Langgard</td>\n",
       "      <td>Di masa pandemi kita jadi kurang bergerak, lat...</td>\n",
       "      <td>masa pandemi jadi kurang gerak latih kecil jad...</td>\n",
       "    </tr>\n",
       "    <tr>\n",
       "      <th>1</th>\n",
       "      <td>1368756182337253376</td>\n",
       "      <td>2021-03-08 02:51:18</td>\n",
       "      <td>primadigitalso1</td>\n",
       "      <td>Tekan biaya industri anda dengan menggunakan V...</td>\n",
       "      <td>tekan biaya industri guna vcloudpoint komputer...</td>\n",
       "    </tr>\n",
       "    <tr>\n",
       "      <th>2</th>\n",
       "      <td>1368613542102933506</td>\n",
       "      <td>2021-03-07 17:24:30</td>\n",
       "      <td>anastasianitap</td>\n",
       "      <td>@HabHesty Iya bu sama. Untung besok dapat jata...</td>\n",
       "      <td>iya bu sama untung besok jatah lega</td>\n",
       "    </tr>\n",
       "    <tr>\n",
       "      <th>3</th>\n",
       "      <td>1368247086471213058</td>\n",
       "      <td>2021-03-06 17:08:20</td>\n",
       "      <td>keroropanda</td>\n",
       "      <td>#WFH\\nMAGANG DI TIKET .COM\\n\\nSegera kirimkan ...</td>\n",
       "      <td>magang daerah istimewa tiket com segera kirim ...</td>\n",
       "    </tr>\n",
       "    <tr>\n",
       "      <th>4</th>\n",
       "      <td>1368157679382753282</td>\n",
       "      <td>2021-03-06 11:13:04</td>\n",
       "      <td>RidwanAffiliate</td>\n",
       "      <td>Mentoring Lengkap tentang bagaimana membuat La...</td>\n",
       "      <td>mentoring lengkap bagaimana buat landing page ...</td>\n",
       "    </tr>\n",
       "  </tbody>\n",
       "</table>\n",
       "</div>"
      ],
      "text/plain": [
       "               tweetId                 date         username  \\\n",
       "0  1368762547189481475  2021-03-08 03:16:36         Langgard   \n",
       "1  1368756182337253376  2021-03-08 02:51:18  primadigitalso1   \n",
       "2  1368613542102933506  2021-03-07 17:24:30   anastasianitap   \n",
       "3  1368247086471213058  2021-03-06 17:08:20      keroropanda   \n",
       "4  1368157679382753282  2021-03-06 11:13:04  RidwanAffiliate   \n",
       "\n",
       "                                               tweet  \\\n",
       "0  Di masa pandemi kita jadi kurang bergerak, lat...   \n",
       "1  Tekan biaya industri anda dengan menggunakan V...   \n",
       "2  @HabHesty Iya bu sama. Untung besok dapat jata...   \n",
       "3  #WFH\\nMAGANG DI TIKET .COM\\n\\nSegera kirimkan ...   \n",
       "4  Mentoring Lengkap tentang bagaimana membuat La...   \n",
       "\n",
       "                                          cleantweet  \n",
       "0  masa pandemi jadi kurang gerak latih kecil jad...  \n",
       "1  tekan biaya industri guna vcloudpoint komputer...  \n",
       "2                iya bu sama untung besok jatah lega  \n",
       "3  magang daerah istimewa tiket com segera kirim ...  \n",
       "4  mentoring lengkap bagaimana buat landing page ...  "
      ]
     },
     "execution_count": 17,
     "metadata": {},
     "output_type": "execute_result"
    }
   ],
   "source": [
    "unlabeled_df = data_cleaning(unlabeled_df)\n",
    "unlabeled_df.head()"
   ]
  },
  {
   "cell_type": "code",
   "execution_count": 18,
   "metadata": {},
   "outputs": [],
   "source": [
    "unlabeled_df.to_csv(\"clean_unlabeled_data.csv\", index=False)"
   ]
  },
  {
   "cell_type": "markdown",
   "metadata": {},
   "source": [
    "#### Read Clean Unlabeled Data"
   ]
  },
  {
   "cell_type": "code",
   "execution_count": 19,
   "metadata": {},
   "outputs": [
    {
     "data": {
      "text/html": [
       "<div>\n",
       "<style scoped>\n",
       "    .dataframe tbody tr th:only-of-type {\n",
       "        vertical-align: middle;\n",
       "    }\n",
       "\n",
       "    .dataframe tbody tr th {\n",
       "        vertical-align: top;\n",
       "    }\n",
       "\n",
       "    .dataframe thead th {\n",
       "        text-align: right;\n",
       "    }\n",
       "</style>\n",
       "<table border=\"1\" class=\"dataframe\">\n",
       "  <thead>\n",
       "    <tr style=\"text-align: right;\">\n",
       "      <th></th>\n",
       "      <th>tweetId</th>\n",
       "      <th>date</th>\n",
       "      <th>username</th>\n",
       "      <th>tweet</th>\n",
       "      <th>cleantweet</th>\n",
       "    </tr>\n",
       "  </thead>\n",
       "  <tbody>\n",
       "    <tr>\n",
       "      <th>0</th>\n",
       "      <td>1368762547189481475</td>\n",
       "      <td>2021-03-08 03:16:36</td>\n",
       "      <td>Langgard</td>\n",
       "      <td>Di masa pandemi kita jadi kurang bergerak, lat...</td>\n",
       "      <td>masa pandemi jadi kurang gerak latih kecil jad...</td>\n",
       "    </tr>\n",
       "    <tr>\n",
       "      <th>1</th>\n",
       "      <td>1368756182337253376</td>\n",
       "      <td>2021-03-08 02:51:18</td>\n",
       "      <td>primadigitalso1</td>\n",
       "      <td>Tekan biaya industri anda dengan menggunakan V...</td>\n",
       "      <td>tekan biaya industri guna vcloudpoint komputer...</td>\n",
       "    </tr>\n",
       "    <tr>\n",
       "      <th>2</th>\n",
       "      <td>1368613542102933506</td>\n",
       "      <td>2021-03-07 17:24:30</td>\n",
       "      <td>anastasianitap</td>\n",
       "      <td>@HabHesty Iya bu sama. Untung besok dapat jata...</td>\n",
       "      <td>iya bu sama untung besok jatah lega</td>\n",
       "    </tr>\n",
       "    <tr>\n",
       "      <th>3</th>\n",
       "      <td>1368247086471213058</td>\n",
       "      <td>2021-03-06 17:08:20</td>\n",
       "      <td>keroropanda</td>\n",
       "      <td>#WFH\\nMAGANG DI TIKET .COM\\n\\nSegera kirimkan ...</td>\n",
       "      <td>magang daerah istimewa tiket com segera kirim ...</td>\n",
       "    </tr>\n",
       "    <tr>\n",
       "      <th>4</th>\n",
       "      <td>1368157679382753282</td>\n",
       "      <td>2021-03-06 11:13:04</td>\n",
       "      <td>RidwanAffiliate</td>\n",
       "      <td>Mentoring Lengkap tentang bagaimana membuat La...</td>\n",
       "      <td>mentoring lengkap bagaimana buat landing page ...</td>\n",
       "    </tr>\n",
       "  </tbody>\n",
       "</table>\n",
       "</div>"
      ],
      "text/plain": [
       "               tweetId                 date         username  \\\n",
       "0  1368762547189481475  2021-03-08 03:16:36         Langgard   \n",
       "1  1368756182337253376  2021-03-08 02:51:18  primadigitalso1   \n",
       "2  1368613542102933506  2021-03-07 17:24:30   anastasianitap   \n",
       "3  1368247086471213058  2021-03-06 17:08:20      keroropanda   \n",
       "4  1368157679382753282  2021-03-06 11:13:04  RidwanAffiliate   \n",
       "\n",
       "                                               tweet  \\\n",
       "0  Di masa pandemi kita jadi kurang bergerak, lat...   \n",
       "1  Tekan biaya industri anda dengan menggunakan V...   \n",
       "2  @HabHesty Iya bu sama. Untung besok dapat jata...   \n",
       "3  #WFH\\nMAGANG DI TIKET .COM\\n\\nSegera kirimkan ...   \n",
       "4  Mentoring Lengkap tentang bagaimana membuat La...   \n",
       "\n",
       "                                          cleantweet  \n",
       "0  masa pandemi jadi kurang gerak latih kecil jad...  \n",
       "1  tekan biaya industri guna vcloudpoint komputer...  \n",
       "2                iya bu sama untung besok jatah lega  \n",
       "3  magang daerah istimewa tiket com segera kirim ...  \n",
       "4  mentoring lengkap bagaimana buat landing page ...  "
      ]
     },
     "execution_count": 19,
     "metadata": {},
     "output_type": "execute_result"
    }
   ],
   "source": [
    "clean_data = pd.read_csv(r\"https://raw.githubusercontent.com/fatihahrhm/Tugas-Akhir/main/clean_unlabeled_data.csv\")\n",
    "clean_data.head()"
   ]
  },
  {
   "cell_type": "markdown",
   "metadata": {},
   "source": [
    "### 4.2. Predict\n",
    "\n",
    "Memprediksi nilai sentimen untuk setiap tweets dengan model terbaik. "
   ]
  },
  {
   "cell_type": "code",
   "execution_count": 20,
   "metadata": {},
   "outputs": [
    {
     "data": {
      "text/plain": [
       "array([1, 1, 1, ..., 1, 1, 1], dtype=int64)"
      ]
     },
     "execution_count": 20,
     "metadata": {},
     "output_type": "execute_result"
    }
   ],
   "source": [
    "predicted = rs_svm.predict(clean_data['cleantweet'].astype(str))\n",
    "predicted"
   ]
  },
  {
   "cell_type": "code",
   "execution_count": 21,
   "metadata": {},
   "outputs": [
    {
     "data": {
      "text/html": [
       "<div>\n",
       "<style scoped>\n",
       "    .dataframe tbody tr th:only-of-type {\n",
       "        vertical-align: middle;\n",
       "    }\n",
       "\n",
       "    .dataframe tbody tr th {\n",
       "        vertical-align: top;\n",
       "    }\n",
       "\n",
       "    .dataframe thead th {\n",
       "        text-align: right;\n",
       "    }\n",
       "</style>\n",
       "<table border=\"1\" class=\"dataframe\">\n",
       "  <thead>\n",
       "    <tr style=\"text-align: right;\">\n",
       "      <th></th>\n",
       "      <th>tweet</th>\n",
       "      <th>cleantweet</th>\n",
       "      <th>sentimen</th>\n",
       "    </tr>\n",
       "  </thead>\n",
       "  <tbody>\n",
       "    <tr>\n",
       "      <th>0</th>\n",
       "      <td>Di masa pandemi kita jadi kurang bergerak, latihan kecil ini jadi solusi buat kita dirumah.\\n\\n#herballife #hidupsehat #herbal #racikanalami #gayahidupsehat #hidupsehat #lawancorona #wfh https://t.co/EJOHqCUnGP</td>\n",
       "      <td>masa pandemi jadi kurang gerak latih kecil jadi solusi buat rumah</td>\n",
       "      <td>1</td>\n",
       "    </tr>\n",
       "    <tr>\n",
       "      <th>1</th>\n",
       "      <td>Tekan biaya industri anda dengan menggunakan Vcloudpoint. Komputer dengan daya 5 watt yang akan menunjang kinerja dan produktifitas industri anda.\\n\\nVcloudPoint\\nMake desktop computing extremely simple and affordable.\\n\\n#vcloudpoint\\n#vcloudpointindonesia\\n#komputer\\n#workfromhome\\n#WFH https://t.co/O1b4pHLbPz</td>\n",
       "      <td>tekan biaya industri guna vcloudpoint komputer dengan daya watt akan tunjang kerja produktivitas industri anda vcloudpoint make desktop computing extremely simple and affordable</td>\n",
       "      <td>1</td>\n",
       "    </tr>\n",
       "    <tr>\n",
       "      <th>2</th>\n",
       "      <td>@HabHesty Iya bu sama. Untung besok dapat jatah #wfh 😌</td>\n",
       "      <td>iya bu sama untung besok jatah lega</td>\n",
       "      <td>1</td>\n",
       "    </tr>\n",
       "    <tr>\n",
       "      <th>3</th>\n",
       "      <td>#WFH\\nMAGANG DI TIKET .COM\\n\\nSegera kirimkan Portofolio dan CV terbaru kamu ke putu.wijaya@tiket.com https://t.co/Dgs0flQCM1</td>\n",
       "      <td>magang daerah istimewa tiket com segera kirim portofolio curriculum vitae baru kamu putu wijaya com</td>\n",
       "      <td>1</td>\n",
       "    </tr>\n",
       "    <tr>\n",
       "      <th>4</th>\n",
       "      <td>Mentoring Lengkap tentang bagaimana membuat Landing Page Secara Live, Kelas Ditutup 2 Hari Lagi,,\\nSelengkapnya cek https://t.co/EiKUKKmECU\\n\\n#landingpage #bisnisonline #cuandariinternet #twitterbisnis #DigitalMarketing #MarketingTwitter #WFH #kelasonline https://t.co/d64aPHgrqc</td>\n",
       "      <td>mentoring lengkap bagaimana buat landing page live kelas tutup hari lagi lengkap cek</td>\n",
       "      <td>1</td>\n",
       "    </tr>\n",
       "    <tr>\n",
       "      <th>...</th>\n",
       "      <td>...</td>\n",
       "      <td>...</td>\n",
       "      <td>...</td>\n",
       "    </tr>\n",
       "    <tr>\n",
       "      <th>56002</th>\n",
       "      <td>@FIRMANSYAHALDI8 km kan masi ikut organisasi, wlopun workfromhome wkwk</td>\n",
       "      <td>kilometer kan ikut organisasi walaupun workfromhome wkwk</td>\n",
       "      <td>1</td>\n",
       "    </tr>\n",
       "    <tr>\n",
       "      <th>56003</th>\n",
       "      <td>@rofvania gamau satu workspace tapi mau satu workfromhome.. heee</td>\n",
       "      <td>mau satu workspace mau satu workfromhome he</td>\n",
       "      <td>1</td>\n",
       "    </tr>\n",
       "    <tr>\n",
       "      <th>56004</th>\n",
       "      <td>next week workfromhome , seminggu punya kerja pun tak boleh settle dekat office .</td>\n",
       "      <td>next week workfromhome minggu punya kerja tak settle dekat office</td>\n",
       "      <td>1</td>\n",
       "    </tr>\n",
       "    <tr>\n",
       "      <th>56005</th>\n",
       "      <td>Hai guys! Buat kamu yang workfromhome Fingerspot iO menjadi solusi untuk produktivitas kamu. \\nBerbagai keunggulan Fingerspot iO yang bisa kamu dapatkan, diantaranya:\\n- Absensi kehadiran via ponsel / mesin - Pantau kehadiran dari ponsel\\n- Lihat timeline dan peta scan karyawan \\nDll https://t.co/njQ2hzWmgY</td>\n",
       "      <td>hai guys buat kamu workfromhome fingerspot io jadi solusi produktivitas kamu bagai unggul fingerspot io bisa kamu dapat antara - absensi hadir via telepon seluler mesin - pantau hadir telepon seluler - lihat lini masa peta scan karyawan dulu</td>\n",
       "      <td>1</td>\n",
       "    </tr>\n",
       "    <tr>\n",
       "      <th>56006</th>\n",
       "      <td>Brangkali krn melihat jauh sekali perbedaan kenyamanan &amp;amp; perlakuan BPJS dg yg ga\\n\\nBukan soal laynan dok ya (walau ini jg sih, dok BPJS memeriksa dg lbh cepat krn pasien byk)\\n\\nTapi jg dr sistem antrian, hrs online, eh manual jg iya dr subuh\\n\\nMana hny bsa 1 dok/hari, 1cek lab/hari https://t.co/RTBNU1Djb5</td>\n",
       "      <td>brangkali lihat jauh sekali beda nyaman amp laku badan selenggara jamin sosial yang enggak bukan soal laynan dok walau sih dok badan selenggara jamin sosial periksa lebih cepat pasien byk juga sistem antri online eh manual juga iya subuh mana bisa dok hari cek lab hari</td>\n",
       "      <td>1</td>\n",
       "    </tr>\n",
       "  </tbody>\n",
       "</table>\n",
       "<p>56007 rows × 3 columns</p>\n",
       "</div>"
      ],
      "text/plain": [
       "                                                                                                                                                                                                                                                                                                                           tweet  \\\n",
       "0      Di masa pandemi kita jadi kurang bergerak, latihan kecil ini jadi solusi buat kita dirumah.\\n\\n#herballife #hidupsehat #herbal #racikanalami #gayahidupsehat #hidupsehat #lawancorona #wfh https://t.co/EJOHqCUnGP                                                                                                          \n",
       "1      Tekan biaya industri anda dengan menggunakan Vcloudpoint. Komputer dengan daya 5 watt yang akan menunjang kinerja dan produktifitas industri anda.\\n\\nVcloudPoint\\nMake desktop computing extremely simple and affordable.\\n\\n#vcloudpoint\\n#vcloudpointindonesia\\n#komputer\\n#workfromhome\\n#WFH https://t.co/O1b4pHLbPz   \n",
       "2      @HabHesty Iya bu sama. Untung besok dapat jatah #wfh 😌                                                                                                                                                                                                                                                                      \n",
       "3      #WFH\\nMAGANG DI TIKET .COM\\n\\nSegera kirimkan Portofolio dan CV terbaru kamu ke putu.wijaya@tiket.com https://t.co/Dgs0flQCM1                                                                                                                                                                                               \n",
       "4      Mentoring Lengkap tentang bagaimana membuat Landing Page Secara Live, Kelas Ditutup 2 Hari Lagi,,\\nSelengkapnya cek https://t.co/EiKUKKmECU\\n\\n#landingpage #bisnisonline #cuandariinternet #twitterbisnis #DigitalMarketing #MarketingTwitter #WFH #kelasonline https://t.co/d64aPHgrqc                                    \n",
       "...                                                                                                                                                                                                                                                                                         ...                                    \n",
       "56002  @FIRMANSYAHALDI8 km kan masi ikut organisasi, wlopun workfromhome wkwk                                                                                                                                                                                                                                                      \n",
       "56003  @rofvania gamau satu workspace tapi mau satu workfromhome.. heee                                                                                                                                                                                                                                                            \n",
       "56004  next week workfromhome , seminggu punya kerja pun tak boleh settle dekat office .                                                                                                                                                                                                                                           \n",
       "56005  Hai guys! Buat kamu yang workfromhome Fingerspot iO menjadi solusi untuk produktivitas kamu. \\nBerbagai keunggulan Fingerspot iO yang bisa kamu dapatkan, diantaranya:\\n- Absensi kehadiran via ponsel / mesin - Pantau kehadiran dari ponsel\\n- Lihat timeline dan peta scan karyawan \\nDll https://t.co/njQ2hzWmgY        \n",
       "56006  Brangkali krn melihat jauh sekali perbedaan kenyamanan &amp; perlakuan BPJS dg yg ga\\n\\nBukan soal laynan dok ya (walau ini jg sih, dok BPJS memeriksa dg lbh cepat krn pasien byk)\\n\\nTapi jg dr sistem antrian, hrs online, eh manual jg iya dr subuh\\n\\nMana hny bsa 1 dok/hari, 1cek lab/hari https://t.co/RTBNU1Djb5   \n",
       "\n",
       "                                                                                                                                                                                                                                                                          cleantweet  \\\n",
       "0      masa pandemi jadi kurang gerak latih kecil jadi solusi buat rumah                                                                                                                                                                                                               \n",
       "1      tekan biaya industri guna vcloudpoint komputer dengan daya watt akan tunjang kerja produktivitas industri anda vcloudpoint make desktop computing extremely simple and affordable                                                                                               \n",
       "2      iya bu sama untung besok jatah lega                                                                                                                                                                                                                                             \n",
       "3      magang daerah istimewa tiket com segera kirim portofolio curriculum vitae baru kamu putu wijaya com                                                                                                                                                                             \n",
       "4      mentoring lengkap bagaimana buat landing page live kelas tutup hari lagi lengkap cek                                                                                                                                                                                            \n",
       "...                                                                                     ...                                                                                                                                                                                            \n",
       "56002  kilometer kan ikut organisasi walaupun workfromhome wkwk                                                                                                                                                                                                                        \n",
       "56003  mau satu workspace mau satu workfromhome he                                                                                                                                                                                                                                     \n",
       "56004  next week workfromhome minggu punya kerja tak settle dekat office                                                                                                                                                                                                               \n",
       "56005  hai guys buat kamu workfromhome fingerspot io jadi solusi produktivitas kamu bagai unggul fingerspot io bisa kamu dapat antara - absensi hadir via telepon seluler mesin - pantau hadir telepon seluler - lihat lini masa peta scan karyawan dulu                               \n",
       "56006  brangkali lihat jauh sekali beda nyaman amp laku badan selenggara jamin sosial yang enggak bukan soal laynan dok walau sih dok badan selenggara jamin sosial periksa lebih cepat pasien byk juga sistem antri online eh manual juga iya subuh mana bisa dok hari cek lab hari   \n",
       "\n",
       "       sentimen  \n",
       "0      1         \n",
       "1      1         \n",
       "2      1         \n",
       "3      1         \n",
       "4      1         \n",
       "...   ..         \n",
       "56002  1         \n",
       "56003  1         \n",
       "56004  1         \n",
       "56005  1         \n",
       "56006  1         \n",
       "\n",
       "[56007 rows x 3 columns]"
      ]
     },
     "execution_count": 21,
     "metadata": {},
     "output_type": "execute_result"
    }
   ],
   "source": [
    "pd.set_option('display.max_colwidth', -1)\n",
    "pd.set_option('display.max_rows', 50)\n",
    "\n",
    "clean_data['sentimen'] = predicted\n",
    "clean_data[['tweet','cleantweet','sentimen']]"
   ]
  },
  {
   "cell_type": "markdown",
   "metadata": {},
   "source": [
    "### 4.3. Hasil Prediksi\n",
    "\n",
    "Hasil dari prediksi pada tahap sebelumnya, ditampilkan dalam bentuk diagram batang dan diagram lingkaran."
   ]
  },
  {
   "cell_type": "code",
   "execution_count": 32,
   "metadata": {},
   "outputs": [
    {
     "data": {
      "image/png": "[encoded data removed]",
      "text/plain": [
       "<Figure size 576x360 with 1 Axes>"
      ]
     },
     "metadata": {},
     "output_type": "display_data"
    }
   ],
   "source": [
    "import seaborn as sns\n",
    "\n",
    "sns.set(style=\"darkgrid\")\n",
    "\n",
    "x = [\"Positif\", \"Negatif\"]\n",
    "y = list(clean_data.sentimen.value_counts())\n",
    "\n",
    "fig = plt.figure(figsize=(8, 5))\n",
    "plots = sns.barplot(x = x, y = y, palette=['#588b8b','#c8553d'])\n",
    "\n",
    "for bar in plots.patches:\n",
    "    plots.annotate(format(bar.get_height(), '.0f'), \n",
    "                   (bar.get_x() + bar.get_width() / 2, \n",
    "                    bar.get_height()), ha='center', va='center',\n",
    "                   size=12, xytext=(0, 8),\n",
    "                   textcoords='offset points')\n",
    "    \n",
    "plt.ylim(0, 40000)  \n",
    "fig.suptitle('Hasil Prediksi Sentimen Publik \\n terhadap Kebijakan Work From Home \\n', fontsize=16)\n",
    "plt.savefig(\"hasil.png\")\n",
    "plt.show()"
   ]
  },
  {
   "cell_type": "code",
   "execution_count": 23,
   "metadata": {},
   "outputs": [
    {
     "data": {
      "image/png": "[encoded data removed]",
      "text/plain": [
       "<Figure size 640x480 with 1 Axes>"
      ]
     },
     "metadata": {},
     "output_type": "display_data"
    }
   ],
   "source": [
    "import matplotlib.pyplot as plt\n",
    "\n",
    "fig2 = plt.figure(figsize=(8, 6), dpi=80)\n",
    "plt.pie(clean_data.sentimen.value_counts(), labels = [\"Positif\",\"Negatif\"], startangle=90, autopct='%1.2f%%', \n",
    "        colors=['#588b8b','#c8553d'], explode=[0.05,0], shadow=True)\n",
    "\n",
    "fig2.suptitle('Hasil Prediksi Sentimen Publik \\n terhadap Kebijakan Work From Home \\n', fontsize=14)\n",
    "plt.savefig(\"hasil 2.png\")\n",
    "plt.show()"
   ]
  }
 ],
 "metadata": {
  "kernelspec": {
   "display_name": "Python 3",
   "language": "python",
   "name": "python3"
  },
  "language_info": {
   "codemirror_mode": {
    "name": "ipython",
    "version": 3
   },
   "file_extension": ".py",
   "mimetype": "text/x-python",
   "name": "python",
   "nbconvert_exporter": "python",
   "pygments_lexer": "ipython3",
   "version": "3.8.1"
  }
 },
 "nbformat": 4,
 "nbformat_minor": 2
}
